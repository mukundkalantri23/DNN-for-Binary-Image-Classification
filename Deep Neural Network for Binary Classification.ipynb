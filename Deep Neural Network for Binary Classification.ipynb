{
 "cells": [
  {
   "cell_type": "markdown",
   "metadata": {},
   "source": [
    "# Deep Neural Network\n",
    "We will build a flexible neural network with L layers that can have different hidden layer units in each layer."
   ]
  },
  {
   "cell_type": "markdown",
   "metadata": {},
   "source": [
    "## Structure\n",
    "1. Import packages and load data.\n",
    "2. Standardize data to have feature values between 0 and 1.\n",
    "3. Define all L layers with their number of hidden units and activation function for each layer.\n",
    "4. Initialize parameters.\n",
    "5. Loop for num_iterations:\n",
    "   - Forward propagation\n",
    "   - Compute cost function\n",
    "   - Backward propagation\n",
    "   - Update parameters (using parameters, and grads from backprop) \n",
    "6. Use trained parameters to predict labels"
   ]
  },
  {
   "cell_type": "code",
   "execution_count": 1,
   "metadata": {},
   "outputs": [
    {
     "name": "stderr",
     "output_type": "stream",
     "text": [
      "C:\\Users\\Admin\\Anaconda3\\lib\\site-packages\\h5py\\__init__.py:36: FutureWarning: Conversion of the second argument of issubdtype from `float` to `np.floating` is deprecated. In future, it will be treated as `np.float64 == np.dtype(float).type`.\n",
      "  from ._conv import register_converters as _register_converters\n"
     ]
    }
   ],
   "source": [
    "import numpy as np\n",
    "import h5py\n",
    "import matplotlib.pyplot as plt\n",
    "\n",
    "%matplotlib inline \n",
    "#display the output of plotting commands on the frontend of the notebook.\n",
    "plt.rcParams['figure.figsize'] = (5.0, 4.0) # set default size of plots\n",
    "# interpolation='nearest' simply displays an image without trying to interpolate between pixels if \n",
    "# the display resolution is not the same as the image resolution (which is most often the case). \n",
    "# It will result an image in which pixels are displayed as a square of multiple pixels.\n",
    "plt.rcParams['image.interpolation'] = 'nearest'\n",
    "plt.rcParams['image.cmap'] = 'gray' # set the default color map"
   ]
  },
  {
   "cell_type": "code",
   "execution_count": 2,
   "metadata": {},
   "outputs": [],
   "source": [
    "def load_data():\n",
    "    train_dataset = h5py.File('train_catvnoncat.h5','r')\n",
    "    #print(list(train_dataset.keys())) #shows a list of column headings in a h5py file.\n",
    "    x_train_orig = np.array(train_dataset['train_set_x'][:])\n",
    "    y_train = np.array(train_dataset['train_set_y'][:])\n",
    "\n",
    "    test_dataset = h5py.File('test_catvnoncat.h5','r')\n",
    "    x_test_orig = np.array(test_dataset['test_set_x'][:])\n",
    "    y_test = np.array(test_dataset['test_set_y'][:])\n",
    "\n",
    "    classes = np.array(train_dataset['list_classes'][:])\n",
    "\n",
    "    # now we have to reshape our output values to make it into a vector\n",
    "    y_train = y_train.reshape(1,y_train.shape[0])\n",
    "    y_test = y_test.reshape(1,y_test.shape[0])\n",
    "    # print(x_train_orig.shape, y_train.shape, x_test_orig.shape, y_test.shape) will output\n",
    "    #      (209, 64, 64, 3)     (1, 209)       (50, 64, 64, 3)    (1, 50)\n",
    "    return (x_train_orig, y_train, x_test_orig, y_test)"
   ]
  },
  {
   "cell_type": "code",
   "execution_count": 3,
   "metadata": {},
   "outputs": [],
   "source": [
    "def transform_data(x_train_orig, x_test_orig):\n",
    "    \"\"\"\n",
    "    Arguments:\n",
    "    x_train_orig -- input training values of dimensions (209, 64, 64, 3)\n",
    "    x_test_orig -- input test values of dimensions (50, 64, 64, 3)\n",
    "    \n",
    "    Returns:\n",
    "    x_train -- transformed input training values of dimensions (12288, 209)\n",
    "    x_test -- transformed input test values of dimensions (12288, 50)\n",
    "    \"\"\"\n",
    "    \n",
    "    # now we have to reshape our data to make our input vector \n",
    "    x_train = x_train_orig.reshape(x_train_orig.shape[0], -1).T\n",
    "    x_test = x_test_orig.reshape(x_test_orig.shape[0], -1).T\n",
    "    # the \"-1\" makes reshape flatten the remaining dimensions\n",
    "\n",
    "    # Standardize data to have feature values between 0 and 1.\n",
    "    x_train = x_train/255\n",
    "    x_test = x_test/255\n",
    "    # generally to standardize data between 0 and 1, we divide all values by the maximum possible value,\n",
    "    # which here is the maximum value of a pixel: 255\n",
    "    return (x_train, x_test)"
   ]
  },
  {
   "cell_type": "code",
   "execution_count": 4,
   "metadata": {},
   "outputs": [],
   "source": [
    "def initialize_parameters(layer_dims):\n",
    "    \"\"\"\n",
    "    Arguments:\n",
    "    layer_dims -- python array (list) containing the dimensions of each layer in our network\n",
    "    \n",
    "    Returns:\n",
    "    parameters -- python dictionary containing your parameters \"W1\", \"b1\", ..., \"WL\", \"bL\":\n",
    "                    Wl -- weight matrix of shape (layer_dims[l], layer_dims[l-1])\n",
    "                    bl -- bias vector of shape (layer_dims[l], 1)\n",
    "    \"\"\"\n",
    "    np.random.seed(1) # It is used to keep all the random function calls consistent.\n",
    "    parameters = {}\n",
    "    L = len(layer_dims) #total number of layers of the neural network\n",
    "    for l in range(1,L):\n",
    "        parameters['W' + str(l)] = np.random.randn(layer_dims[l],layer_dims[l-1])/ np.sqrt(layer_dims[l-1])#*0.01\n",
    "        parameters['b' + str(l)] = np.zeros((layer_dims[l],1))\n",
    "    return parameters"
   ]
  },
  {
   "cell_type": "code",
   "execution_count": 5,
   "metadata": {},
   "outputs": [],
   "source": [
    "def sigmoid(z):\n",
    "    a = 1/(1+np.exp(-z))\n",
    "    return a\n",
    "\n",
    "def relu(z):\n",
    "    a = np.maximum(0,z)\n",
    "    return a\n",
    "\n",
    "def dZ_sigmoid(dA, z):\n",
    "    s = sigmoid(z)\n",
    "    dZ = dA * s * (1-s)\n",
    "    return dZ\n",
    "\n",
    "def dZ_relu(dA,z):\n",
    "    dZ = np.array(dA, copy = True) # copy input values into an array to avoid overwriting on the same values\n",
    "    dZ[z<=0] = 0 # slope for values <=0 would be 0 else 1\n",
    "    return dZ"
   ]
  },
  {
   "cell_type": "code",
   "execution_count": 6,
   "metadata": {},
   "outputs": [],
   "source": [
    "def forward_pass(X, parameters, activation):\n",
    "    \"\"\"\n",
    "    Arguments:\n",
    "    X -- input values of dimension(12288, 209)\n",
    "    parameters -- python dictionary containing your parameters \"W1\", \"b1\", ..., \"WL\", \"bL\":\n",
    "                    Wl -- weight matrix of shape (layer_dims[l], layer_dims[l-1])\n",
    "                    bl -- bias vector of shape (layer_dims[l], 1)\n",
    "    activation -- the activation to be used in this layer, stored as a text string: \"sigmoid\" or \"relu\"\n",
    "    \n",
    "    Returns:\n",
    "    Y_pred -- predicted output values of dimension(1,209)\n",
    "    Z_cache -- the input of the activation function of all layers in a dictionary\n",
    "    A_cache -- the output of activation function of all layers in a dictionary\n",
    "    \"\"\"\n",
    "    L = len(activation)\n",
    "    A_prev = X\n",
    "    Z_cache = {}\n",
    "    A_cache = {'A0':X}\n",
    "    for l in range(L):\n",
    "        W = parameters['W' + str(l+1)]\n",
    "        b = parameters['b' + str(l+1)]\n",
    "        Z = np.dot(W,A_prev)+b\n",
    "        if activation[l] == 'sigmoid':\n",
    "            A = sigmoid(Z)\n",
    "        elif activation[l] == 'relu':\n",
    "            A = relu(Z)\n",
    "        A_prev = A\n",
    "        Z_cache['Z' + str(l+1)] = Z\n",
    "        A_cache['A' + str(l+1)] = A\n",
    "    Y_pred = A\n",
    "    return (Y_pred, Z_cache, A_cache)"
   ]
  },
  {
   "cell_type": "code",
   "execution_count": 7,
   "metadata": {},
   "outputs": [],
   "source": [
    "def compute_cost(Y_pred, Y):\n",
    "    \"\"\"\n",
    "    Arguments:\n",
    "    Y_pred -- predicted output values of dimension(1,209)\n",
    "    Y -- original output values of dimension(1,209)\n",
    "    \n",
    "    Returns:\n",
    "    cost -- cross entropy cost\n",
    "    dCost -- derivative of the cross entropy cost function of dimension (1,209)\n",
    "    \"\"\"\n",
    "    m = Y.shape[1]\n",
    "    cost = (-1/m) * (np.dot(Y,np.log(Y_pred).T) + np.dot(1-Y,np.log(1-Y_pred).T))\n",
    "    dCost = - (np.divide(Y,Y_pred) - np.divide(1-Y,1-Y_pred))\n",
    "    return cost, dCost"
   ]
  },
  {
   "cell_type": "code",
   "execution_count": 8,
   "metadata": {},
   "outputs": [],
   "source": [
    "def backward_pass(dCost, Z_cache, A_cache, activation, parameters):\n",
    "    \"\"\"\n",
    "    Arguments:\n",
    "    dCost -- derivative of the cross entropy cost function of dimension (1,209)\n",
    "    Z_cache -- the input of the activation function of all layers in a dictionary\n",
    "    A_cache -- the output of activation function of all layers in a dictionary\n",
    "    activation -- the activation to be used in this layer, stored as a text string: \"sigmoid\" or \"relu\"\n",
    "    parameters -- python dictionary containing your parameters \"W1\", \"b1\", ..., \"WL\", \"bL\":\n",
    "                    Wl -- weight matrix of shape (layer_dims[l], layer_dims[l-1])\n",
    "                    bl -- bias vector of shape (layer_dims[l], 1)\n",
    "    \n",
    "    Returns:\n",
    "    grads -- dictionary containing gradients (dW and db) of all layers\n",
    "    \"\"\"\n",
    "    dA = dCost\n",
    "    m = dA.shape[1]\n",
    "    grads = {}\n",
    "    L = len(activation)\n",
    "    for l in reversed(range(L)):\n",
    "        # 3 2 1 0\n",
    "        #print(list(A_cache.keys())[l])\n",
    "        A_prev = A_cache['A' + str(l)]\n",
    "        Z = Z_cache['Z' + str(l+1)]\n",
    "        W = parameters['W' + str(l+1)]\n",
    "        if activation[l] == 'sigmoid':\n",
    "            dZ = dZ_sigmoid(dA, Z)\n",
    "        elif activation[l] == 'relu':\n",
    "            dZ = dZ_relu(dA, Z)\n",
    "        dW = (1/m) * np.dot(dZ,A_prev.T)\n",
    "        db = (1/m) * np.sum(dZ, axis = 1, keepdims = True)\n",
    "        dA = np.dot(W.T,dZ)\n",
    "        grads['dW' + str(l+1)] = dW\n",
    "        grads['db' + str(l+1)] = db\n",
    "    return grads "
   ]
  },
  {
   "cell_type": "code",
   "execution_count": 9,
   "metadata": {},
   "outputs": [],
   "source": [
    "def update_params(grads, parameters, learning_rate):\n",
    "    \"\"\"\n",
    "    Arguments:\n",
    "    grads -- dictionary containing gradients (dW and db) of all layers\n",
    "    parameters -- python dictionary containing your parameters \"W1\", \"b1\", ..., \"WL\", \"bL\":\n",
    "                    Wl -- weight matrix of shape (layer_dims[l], layer_dims[l-1])\n",
    "                    bl -- bias vector of shape (layer_dims[l], 1)\n",
    "    learning_rate -- learning rate to set the speed of model training\n",
    "    \n",
    "    Returns:\n",
    "    parameters -- python dictionary containing your parameters \"W1\", \"b1\", ..., \"WL\", \"bL\":\n",
    "                    Wl -- weight matrix of shape (layer_dims[l], layer_dims[l-1])\n",
    "                    bl -- bias vector of shape (layer_dims[l], 1)\n",
    "    \"\"\"\n",
    "    L = len(grads)//2\n",
    "    for l in range(L):\n",
    "        parameters['W' + str(l+1)] -= learning_rate * grads['dW' + str(l+1)]\n",
    "        parameters['b' + str(l+1)] -= learning_rate * grads['db' + str(l+1)]\n",
    "    return parameters"
   ]
  },
  {
   "cell_type": "code",
   "execution_count": 10,
   "metadata": {},
   "outputs": [],
   "source": [
    "def train_model(x_train, y_train, parameters, activation, num_iterations = 3000, print_cost=False):\n",
    "    m = y_train.shape[1]\n",
    "    costs = []\n",
    "    for i in range(num_iterations):\n",
    "        Y_pred, Z_cache, A_cache = forward_pass(x_train, parameters, activation)\n",
    "        cost, dCost = compute_cost(Y_pred, y_train)\n",
    "        grads = backward_pass(dCost, Z_cache, A_cache, activation, parameters)\n",
    "        parameters = update_params(grads, parameters, learning_rate)\n",
    "        if print_cost and i % 100 == 0:\n",
    "            print(\"Cost after iteration {}: {}\".format(i, np.squeeze(cost)))\n",
    "        if print_cost and i % 100 == 0:\n",
    "            costs.append(cost)\n",
    "    plt.plot(np.squeeze(costs)) # plot the cost\n",
    "    plt.ylabel('cost')\n",
    "    plt.xlabel('iterations (per hundreds)')\n",
    "    plt.title(\"Learning rate =\" + str(learning_rate))\n",
    "    plt.show()     \n",
    "    return parameters, costs"
   ]
  },
  {
   "cell_type": "code",
   "execution_count": 11,
   "metadata": {},
   "outputs": [],
   "source": [
    "def predict(X, Y, parameters, activation):\n",
    "    \"\"\"\n",
    "    Arguments:\n",
    "    X -- input data set\n",
    "    Y -- original output of the data set \n",
    "    parameters -- parameters of the trained model\n",
    "    activation -- the activation to be used in this layer, stored as a text string: \"sigmoid\" or \"relu\"\n",
    "    \n",
    "    Returns:\n",
    "    p -- predictions for the given dataset X\n",
    "    \"\"\"\n",
    "    m = X.shape[1]\n",
    "    p = np.zeros((1,m))\n",
    "    \n",
    "    # Forward propagation\n",
    "    Y_pred, Z_cache, A_cache = forward_pass(X, parameters, activation)\n",
    "    # convert output to 0/1 predictions\n",
    "    p[Y_pred>0.5] = 1 # if true then 1 else 0\n",
    "    accuracy = np.sum(p == Y)*(100/m)\n",
    "    return accuracy"
   ]
  },
  {
   "cell_type": "markdown",
   "metadata": {},
   "source": [
    "## Final Implementation"
   ]
  },
  {
   "cell_type": "code",
   "execution_count": 12,
   "metadata": {},
   "outputs": [
    {
     "name": "stdout",
     "output_type": "stream",
     "text": [
      "Cost after iteration 0: 0.7717493284237686\n",
      "Cost after iteration 100: 0.6720534400822914\n",
      "Cost after iteration 200: 0.6482632048575212\n",
      "Cost after iteration 300: 0.6115068816101354\n",
      "Cost after iteration 400: 0.5670473268366111\n",
      "Cost after iteration 500: 0.54013766345478\n",
      "Cost after iteration 600: 0.5279299569455267\n",
      "Cost after iteration 700: 0.4654773771766851\n",
      "Cost after iteration 800: 0.3691258524959279\n",
      "Cost after iteration 900: 0.39174697434805344\n",
      "Cost after iteration 1000: 0.3151869888600617\n",
      "Cost after iteration 1100: 0.2726998441789385\n",
      "Cost after iteration 1200: 0.23741853400268137\n",
      "Cost after iteration 1300: 0.19960120532208647\n",
      "Cost after iteration 1400: 0.18926300388463305\n",
      "Cost after iteration 1500: 0.1611885466582775\n",
      "Cost after iteration 1600: 0.14821389662363316\n",
      "Cost after iteration 1700: 0.13777487812972944\n",
      "Cost after iteration 1800: 0.1297401754919012\n",
      "Cost after iteration 1900: 0.12122535068005211\n",
      "Cost after iteration 2000: 0.1138206066863371\n",
      "Cost after iteration 2100: 0.10783928526254133\n",
      "Cost after iteration 2200: 0.10285466069352679\n",
      "Cost after iteration 2300: 0.10089745445261787\n",
      "Cost after iteration 2400: 0.09287821526472397\n",
      "Cost after iteration 2500: 0.0884125117761504\n",
      "Cost after iteration 2600: 0.08595130416146429\n",
      "Cost after iteration 2700: 0.08168126914926337\n",
      "Cost after iteration 2800: 0.07824661275815534\n",
      "Cost after iteration 2900: 0.07544408693855482\n"
     ]
    },
    {
     "data": {
      "image/png": "[encoded data removed]",
      "text/plain": [
       "<Figure size 432x288 with 1 Axes>"
      ]
     },
     "metadata": {},
     "output_type": "display_data"
    }
   ],
   "source": [
    "# hyperparameters\n",
    "num_iterations = 3000\n",
    "learning_rate = 0.0075\n",
    "layers_dims = [20, 7, 5, 1] # no. of hidden layer units in each hidden layer\n",
    "activation = ['relu', 'relu', 'relu', 'sigmoid'] #activation function (relu/sigmoid) corresponding to each hidden layer.\n",
    "#activation function for the output layer will be sigmoid function.\n",
    "\n",
    "#execution\n",
    "#import_libraries()\n",
    "x_train_orig, y_train, x_test_orig, y_test = load_data()\n",
    "x_train, x_test = transform_data(x_train_orig, x_test_orig)\n",
    "m = y_train.shape[1]\n",
    "layers_dims.insert(0,x_train.shape[0])\n",
    "parameters = initialize_parameters(layers_dims)\n",
    "parameters, costs = train_model(x_train, y_train, parameters, activation, num_iterations, print_cost = True)"
   ]
  },
  {
   "cell_type": "code",
   "execution_count": 13,
   "metadata": {},
   "outputs": [
    {
     "name": "stdout",
     "output_type": "stream",
     "text": [
      "Accuracy for training dataset: 99.04306220095694%\n",
      "Accuracy for test dataset: 82.0%\n"
     ]
    }
   ],
   "source": [
    "predictions_train = predict(x_train, y_train, parameters, activation)\n",
    "print('Accuracy for training dataset: ' + str(predictions_train) + '%')\n",
    "predictions_test = predict(x_test, y_test, parameters, activation)\n",
    "print('Accuracy for test dataset: ' + str(predictions_test) + '%')"
   ]
  },
  {
   "cell_type": "code",
   "execution_count": null,
   "metadata": {},
   "outputs": [],
   "source": []
  }
 ],
 "metadata": {
  "kernelspec": {
   "display_name": "Python 3",
   "language": "python",
   "name": "python3"
  },
  "language_info": {
   "codemirror_mode": {
    "name": "ipython",
    "version": 3
   },
   "file_extension": ".py",
   "mimetype": "text/x-python",
   "name": "python",
   "nbconvert_exporter": "python",
   "pygments_lexer": "ipython3",
   "version": "3.6.5"
  }
 },
 "nbformat": 4,
 "nbformat_minor": 2
}
